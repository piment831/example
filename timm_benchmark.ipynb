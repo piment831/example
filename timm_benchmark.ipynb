{
  "nbformat": 4,
  "nbformat_minor": 0,
  "metadata": {
    "colab": {
      "provenance": [],
      "private_outputs": true,
      "gpuType": "T4"
    },
    "kernelspec": {
      "name": "python3",
      "display_name": "Python 3"
    },
    "language_info": {
      "name": "python"
    },
    "accelerator": "GPU"
  },
  "cells": [
    {
      "cell_type": "markdown",
      "source": [
        "# インストール"
      ],
      "metadata": {
        "id": "6H0uThiLdcmn"
      }
    },
    {
      "cell_type": "code",
      "source": [
        "%%capture\n",
        "!pip install timm"
      ],
      "metadata": {
        "id": "Nb8tFEOGoOcJ"
      },
      "execution_count": null,
      "outputs": []
    },
    {
      "cell_type": "code",
      "source": [
        "%%capture\n",
        "# for tpu\n",
        "!pip install cloud-tpu-client==0.10 https://storage.googleapis.com/tpu-pytorch/wheels/colab/torch_xla-2.0-cp310-cp310-linux_x86_64.whl"
      ],
      "metadata": {
        "id": "JpXcWmRFjowj"
      },
      "execution_count": null,
      "outputs": []
    },
    {
      "cell_type": "markdown",
      "source": [
        "# 結果準備"
      ],
      "metadata": {
        "id": "3TS9YhdYdkBW"
      }
    },
    {
      "cell_type": "code",
      "source": [
        "!wget https://github.com/huggingface/pytorch-image-models/raw/main/results/results-imagenet.csv"
      ],
      "metadata": {
        "id": "_yyMgqx_HPyM"
      },
      "execution_count": null,
      "outputs": []
    },
    {
      "cell_type": "code",
      "source": [
        "import pandas as pd\n",
        "\n",
        "# 精度結果\n",
        "results_imagenet = pd.read_csv('results-imagenet.csv')\n",
        "\n",
        "# 推論時間結果\n",
        "columns = results_imagenet.columns.to_list()\n",
        "columns.insert(1, 'type')\n",
        "columns.insert(2, 'time')"
      ],
      "metadata": {
        "id": "suhjlprkYXb-"
      },
      "execution_count": null,
      "outputs": []
    },
    {
      "cell_type": "code",
      "source": [
        "!ls -la ~/.cache"
      ],
      "metadata": {
        "id": "iASRifLtqtuo"
      },
      "execution_count": null,
      "outputs": []
    },
    {
      "cell_type": "markdown",
      "source": [
        "# 測定"
      ],
      "metadata": {
        "id": "KPKjTGUFdxKC"
      }
    },
    {
      "cell_type": "code",
      "source": [
        "import os\n",
        "import shutil\n",
        "import signal\n",
        "import time\n",
        "import psutil\n",
        "from tqdm import tqdm\n",
        "import numpy as np\n",
        "from PIL import Image\n",
        "import timm\n",
        "from timm.data import resolve_data_config\n",
        "from timm.data.transforms_factory import create_transform\n",
        "import torch\n",
        "import torch_xla.core.xla_model as xm\n",
        "import csv\n",
        "from google.colab import runtime\n",
        "\n",
        "import warnings\n",
        "warnings.filterwarnings(\"ignore\")\n",
        "\n",
        "width = 1920#@param {type: \"number\"}\n",
        "height = 1080#@param {type: \"number\"}\n",
        "repeat = 5#@param {type: \"number\"}\n",
        "#device_type = \"cpu\"#@param [\"cpu\", \"cuda\", \"tpu\"]\n",
        "output_path = \"results.csv\"#@param {type: \"string\"}\n",
        "terminate = False\n",
        "\n",
        "device_types = [\"cuda\", \"cpu\"]\n",
        "\n",
        "# results\n",
        "if os.path.isfile(output_path):\n",
        "  df = pd.read_csv(output_path)\n",
        "else:\n",
        "  df = pd.DataFrame(columns=columns)\n",
        "results = []\n",
        "\n",
        "# device\n",
        "#device = device_type\n",
        "#if device_type == \"tpu\":\n",
        "#  device = xm.xla_device()\n",
        "\n",
        "# create images\n",
        "images = [Image.fromarray((np.random.rand(width, height, 3)*255).astype('uint8')).convert('RGB') for i in range(repeat)]\n",
        "\n",
        "# save\n",
        "def save_results(df, results, output_path):\n",
        "  df_append = pd.DataFrame(data=results, columns=columns)\n",
        "  df = pd.concat([df, df_append], ignore_index=True, axis=0)\n",
        "  df.to_csv(output_path, index=False)\n",
        "\n",
        "# model list\n",
        "model_names = timm.list_pretrained()\n",
        "\n",
        "for model_name in tqdm(model_names):\n",
        "  try:\n",
        "    for device_type in device_types:\n",
        "      device = device_type\n",
        "\n",
        "      res_imagenet = results_imagenet.query(f\"model == '{model_name}'\")\n",
        "      res = df.query(f\"type == '{device_type}' & model == '{model_name}'\")\n",
        "      if len(res_imagenet) == 0 or 0 < len(res):\n",
        "        continue\n",
        "\n",
        "      # clear cache\n",
        "      if device_type == \"cuda\":\n",
        "        torch.cuda.empty_cache()\n",
        "      dsk = psutil.disk_usage('/')\n",
        "      if 80 < dsk.percent:\n",
        "        shutil.rmtree(f\"{os.environ['HOME']}/.cache/huggingface\")\n",
        "        save_results(df, results, output_path)\n",
        "\n",
        "      # inference\n",
        "      with torch.no_grad():\n",
        "        model = timm.create_model(model_name, pretrained=True)\n",
        "        model.to(device)\n",
        "        model.eval()\n",
        "        transform = create_transform(**resolve_data_config(model.pretrained_cfg, model=model))\n",
        "\n",
        "        start = time.perf_counter()\n",
        "        [model(transform(image).unsqueeze(0).to(device)) for image in images]\n",
        "        end = time.perf_counter()\n",
        "      del model\n",
        "\n",
        "      res_dict = res_imagenet.iloc[0,:].T.to_dict()\n",
        "      res_dict['type'] = device_type\n",
        "      res_dict['time'] = (end - start)/repeat\n",
        "      results.append(res_dict)\n",
        "      print(f\"{model_name},{(end - start)/repeat},{device}\")\n",
        "  except KeyboardInterrupt:\n",
        "    break\n",
        "\n",
        "# result save\n",
        "save_results(df, results, output_path)"
      ],
      "metadata": {
        "id": "EEb-gi0g19eL"
      },
      "execution_count": null,
      "outputs": []
    }
  ]
}